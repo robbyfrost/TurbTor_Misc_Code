{
 "cells": [
  {
   "cell_type": "markdown",
   "metadata": {},
   "source": [
    "## Name: tdop_ppi.py\n",
    "\n",
    "Author: Robby M. Frost\n",
    "\n",
    "University of Oklahoma\n",
    "\n",
    "Created: 23 September 23024\n",
    "\n",
    "Purpose: Plotting terminal doppler PPIs of radial\n",
    "velocity and inferred vertical vorticity"
   ]
  },
  {
   "cell_type": "code",
   "execution_count": 1,
   "metadata": {},
   "outputs": [
    {
     "name": "stdout",
     "output_type": "stream",
     "text": [
      "\n",
      "## You are using the Python ARM Radar Toolkit (Py-ART), an open source\n",
      "## library for working with weather radar data. Py-ART is partly\n",
      "## supported by the U.S. Department of Energy as part of the Atmospheric\n",
      "## Radiation Measurement (ARM) Climate Research Facility, an Office of\n",
      "## Science user facility.\n",
      "##\n",
      "## If you use this software to prepare a publication, please cite:\n",
      "##\n",
      "##     JJ Helmus and SM Collis, JORS 2016, doi: 10.5334/jors.119\n",
      "\n"
     ]
    }
   ],
   "source": [
    "import pyart\n",
    "# import xarray as xr\n",
    "import numpy as np\n",
    "import matplotlib.pyplot as plt\n",
    "import matplotlib.colors as mcolors\n",
    "import cartopy.crs as ccrs\n",
    "import cartopy.feature as cfeature\n",
    "import geopandas as gpd\n",
    "from metpy.plots import USCOUNTIES"
   ]
  },
  {
   "cell_type": "markdown",
   "metadata": {},
   "source": [
    "Read in radar data and add filter"
   ]
  },
  {
   "cell_type": "code",
   "execution_count": 2,
   "metadata": {},
   "outputs": [],
   "source": [
    "# ---------------------------------\n",
    "# read in radar file\n",
    "\n",
    "# radar file location\n",
    "# dfile = '/Users/robbyfrost/Documents/MS_Project/data_tmp/tokc/TOKC20240714_215057_V08'\n",
    "dfile = '/home/robbyfrost/Analysis/TurbTor_Misc_Code/tokc_analysis/TOKC20240715_214211_V08'\n",
    "figdir = '/home/robbyfrost/Analysis/TurbTor_Misc_Code/tokc_analysis/'\n",
    "\n",
    "# read file\n",
    "radar = pyart.io.read(dfile)\n",
    "# extract radar position\n",
    "radar_lat = radar.latitude['data'][0]\n",
    "radar_lon = radar.longitude['data'][0]\n",
    "# mask out last 10 gates of each ray, this removes the \"ring\" around the radar.\n",
    "radar.fields[\"reflectivity\"][\"data\"][:, -10:] = np.ma.masked\n",
    "radar.fields[\"velocity\"][\"data\"][:, -10:] = np.ma.masked\n",
    "# exclude masked gates from the gridding\n",
    "gatefilter = pyart.filters.GateFilter(radar)\n",
    "gatefilter.exclude_transition()\n",
    "gatefilter.exclude_masked(\"reflectivity\")\n",
    "gatefilter.exclude_masked(\"velocity\")"
   ]
  },
  {
   "cell_type": "code",
   "execution_count": 3,
   "metadata": {},
   "outputs": [
    {
     "data": {
      "text/plain": [
       "dict_keys(['velocity', 'spectrum_width', 'reflectivity'])"
      ]
     },
     "execution_count": 3,
     "metadata": {},
     "output_type": "execute_result"
    }
   ],
   "source": [
    "radar.fields.keys()"
   ]
  },
  {
   "cell_type": "markdown",
   "metadata": {},
   "source": [
    "Calculate vertical vorticity"
   ]
  },
  {
   "cell_type": "code",
   "execution_count": 43,
   "metadata": {},
   "outputs": [],
   "source": [
    "# extract needed arrays\n",
    "vr = radar.fields['velocity']['data']\n",
    "az = radar.azimuth['data']\n",
    "r = radar.range['data']\n",
    "# Mask out close ranges\n",
    "r_masked = np.where(r < 1000, np.nan, r)\n",
    "# calculate\n",
    "vort_z = ( (vr[1:,:] - vr[:-1,:]) / (np.deg2rad(az[1:]) - np.deg2rad(az[:-1]))[:,np.newaxis] ) * (1 / r_masked)\n",
    "# pad extra azimuth array\n",
    "vort_z_padded = np.pad(vort_z, ((0, 1), (0, 0)), mode='constant', constant_values=np.nan)  # Add NaNs to the extra azimuth"
   ]
  },
  {
   "cell_type": "markdown",
   "metadata": {},
   "source": [
    "Add $\\zeta$ to radar object"
   ]
  },
  {
   "cell_type": "code",
   "execution_count": 44,
   "metadata": {},
   "outputs": [],
   "source": [
    "# Create the new field dictionary\n",
    "vort_z_field = {\n",
    "    'data': vort_z_padded,\n",
    "    'units': '/s',  # Example units\n",
    "    'long_name': 'Inferred Vertical Vorticity',  # Long name for the field\n",
    "    'standard_name': 'Vertical_Vocticity',  # Standard name\n",
    "    # 'valid_min': -0.2,  # Optional, valid min value for the field\n",
    "    # 'valid_max': 0.2,   # Optional, valid max value for the field\n",
    "}\n",
    "\n",
    "# Add the new field to the radar object\n",
    "radar.add_field('vort_z', vort_z_field, replace_existing=True)\n",
    "# gatefielter on vort_z\n",
    "gatefilter.exclude_outside('vort_z', -0.05, 0.05)"
   ]
  },
  {
   "cell_type": "markdown",
   "metadata": {},
   "source": [
    "Plot PPI of reflectivity and radial velocity"
   ]
  },
  {
   "cell_type": "code",
   "execution_count": null,
   "metadata": {},
   "outputs": [],
   "source": [
    "# ---------------------------------\n",
    "# plot PPI of reflectivity and vr\n",
    "\n",
    "# Create a figure with 2 subplots\n",
    "fig, ax = plt.subplots(1, 2, figsize=(18, 8), subplot_kw={'projection': ccrs.PlateCarree()})\n",
    "\n",
    "# First plot: Reflectivity on ax1\n",
    "display = pyart.graph.RadarMapDisplay(radar)\n",
    "display.plot_ppi_map(\n",
    "    'reflectivity',\n",
    "    sweep=1,\n",
    "    ax=ax[0],\n",
    "    cmap='pyart_NWSRef',\n",
    "    vmin=-20, vmax=80,\n",
    "    projection=ccrs.PlateCarree(),\n",
    "    min_lon=radar_lon - 1, max_lon=radar_lon + 1,\n",
    "    min_lat=radar_lat - 1, max_lat=radar_lat + 1,\n",
    "    resolution='50m',\n",
    "    # lat_lines=np.arange(int(radar_lat) - 2, int(radar_lat) + 2, 0.5),\n",
    "    # lon_lines=np.arange(int(radar_lon) - 2, int(radar_lon) + 2, 0.5),\n",
    "    colorbar_flag=True,\n",
    "    colorbar_label='Reflectivity [dBZ]'\n",
    ")\n",
    "\n",
    "# Second plot: Radial Velocity on ax2\n",
    "display.plot_ppi_map(\n",
    "    'velocity',  # Field to plot, change as needed for your dataset\n",
    "    sweep=1,\n",
    "    ax=ax[1],\n",
    "    cmap='pyart_Carbone42',  # Use a different colormap for velocity\n",
    "    vmin=-30, vmax=30,  # Adjust min/max values for radial velocity\n",
    "    projection=ccrs.PlateCarree(),\n",
    "    min_lon=radar_lon - 1, max_lon=radar_lon + 1,\n",
    "    min_lat=radar_lat - 1, max_lat=radar_lat + 1,\n",
    "    resolution='50m',\n",
    "    # lat_lines=np.arange(int(radar_lat) - 2, int(radar_lat) + 2, 0.5),\n",
    "    # lon_lines=np.arange(int(radar_lon) - 2, int(radar_lon) + 2, 0.5),\n",
    "    colorbar_flag=True,\n",
    "    colorbar_label='Radial Velocity [m s$^{-1}$]',\n",
    "    gatefilter=gatefilter\n",
    ")\n",
    "\n",
    "# mapping\n",
    "for iax in ax:\n",
    "    # iax.coastlines('50m')\n",
    "    iax.add_feature(cfeature.STATES, linewidth=0.5)\n",
    "    iax.add_feature(USCOUNTIES.with_scale('500k'))\n",
    "\n",
    "# Display the plot\n",
    "plt.tight_layout()\n",
    "plt.savefig(f\"{figdir}tokc_test.png\")\n",
    "plt.show()\n",
    "plt.close()"
   ]
  },
  {
   "cell_type": "markdown",
   "metadata": {},
   "source": [
    "Plot PPI of radial velocity and vertical vorticity"
   ]
  },
  {
   "cell_type": "code",
   "execution_count": null,
   "metadata": {},
   "outputs": [],
   "source": [
    "# ---------------------------------\n",
    "# plot PPI of vr and vort_z\n",
    "\n",
    "# Create a figure with 2 subplots\n",
    "fig, ax = plt.subplots(1, 2, figsize=(18, 8), subplot_kw={'projection': ccrs.PlateCarree()})\n",
    "\n",
    "# first plot: Radial Velocity on ax2\n",
    "display.plot_ppi_map(\n",
    "    'velocity',  # Field to plot, change as needed for your dataset\n",
    "    sweep=1,\n",
    "    ax=ax[0],\n",
    "    cmap='pyart_Carbone42',  # Use a different colormap for velocity\n",
    "    vmin=-30, vmax=30,  # Adjust min/max values for radial velocity\n",
    "    projection=ccrs.PlateCarree(),\n",
    "    min_lon=radar_lon - 0.5, max_lon=radar_lon + 0.5,\n",
    "    min_lat=radar_lat - 0.5, max_lat=radar_lat + 0.5,\n",
    "    resolution='50m',\n",
    "    # lat_lines=np.arange(int(radar_lat) - 2, int(radar_lat) + 2, 0.5),\n",
    "    # lon_lines=np.arange(int(radar_lon) - 2, int(radar_lon) + 2, 0.5),\n",
    "    colorbar_flag=True,\n",
    "    colorbar_label='Radial Velocity [m s$^{-1}$]',\n",
    "    gatefilter=gatefilter\n",
    ")\n",
    "\n",
    "# second plot: inferred vertical vorticity\n",
    "display.plot_ppi_map(\n",
    "    'vort_z',\n",
    "    sweep=1,\n",
    "    ax=ax[1],\n",
    "    cmap='RdBu',\n",
    "    vmin=-0.05, vmax=0.05,\n",
    "    projection=ccrs.PlateCarree(),\n",
    "    min_lon=radar_lon - 0.5, max_lon=radar_lon + 0.5,\n",
    "    min_lat=radar_lat - 0.5, max_lat=radar_lat + 0.5,\n",
    "    resolution='50m',\n",
    "    # lat_lines=np.arange(int(radar_lat) - 2, int(radar_lat) + 2, 0.5),\n",
    "    # lon_lines=np.arange(int(radar_lon) - 2, int(radar_lon) + 2, 0.5),\n",
    "    colorbar_flag=True,\n",
    "    colorbar_label='Inferred Vertical Vorticity [s$^{-1}$]',\n",
    "    gatefilter=gatefilter\n",
    ")\n",
    "\n",
    "# mapping\n",
    "for iax in ax:\n",
    "    # iax.coastlines('50m')\n",
    "    iax.add_feature(cfeature.STATES, linewidth=0.5)\n",
    "    iax.add_feature(USCOUNTIES.with_scale('500k'))\n",
    "\n",
    "# Display the plot\n",
    "plt.tight_layout()\n",
    "plt.savefig(f\"{figdir}tokc_test_vort_z.png\")\n",
    "plt.show()\n",
    "plt.close()"
   ]
  },
  {
   "cell_type": "code",
   "execution_count": 35,
   "metadata": {},
   "outputs": [],
   "source": [
    "# Access the time data\n",
    "time_data = radar.time['data']"
   ]
  },
  {
   "cell_type": "code",
   "execution_count": null,
   "metadata": {},
   "outputs": [],
   "source": [
    "radar.time['units'][-20:]"
   ]
  },
  {
   "cell_type": "code",
   "execution_count": 17,
   "metadata": {},
   "outputs": [],
   "source": [
    "import sys\n",
    "sys.path.append('/home/robbyfrost/Analysis/TurbTor_Lidar')\n",
    "from functions import *\n",
    "\n",
    "el = radar.elevation['data']\n",
    "\n",
    "bh = beam_height_2D(r, el)"
   ]
  }
 ],
 "metadata": {
  "kernelspec": {
   "display_name": "lidar",
   "language": "python",
   "name": "python3"
  },
  "language_info": {
   "codemirror_mode": {
    "name": "ipython",
    "version": 3
   },
   "file_extension": ".py",
   "mimetype": "text/x-python",
   "name": "python",
   "nbconvert_exporter": "python",
   "pygments_lexer": "ipython3",
   "version": "3.12.6"
  }
 },
 "nbformat": 4,
 "nbformat_minor": 2
}
